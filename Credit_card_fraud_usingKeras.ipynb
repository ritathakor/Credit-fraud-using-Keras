{
 "cells": [
  {
   "cell_type": "markdown",
   "metadata": {
    "id": "0DfpoUxy83d0"
   },
   "source": [
    "## Credit Card Fraud\n",
    "\n",
    "Data Has been sourced from Kaggle\n",
    "\n",
    "The datasets contains transactions made by credit cards in September 2013 by european cardholders. This dataset presents transactions that occurred in two days, where we have 492 frauds out of 284,807 transactions. The dataset is highly unbalanced, the positive class (frauds) account for 0.172% of all transactions.\n",
    "\n",
    "It contains only numerical input variables which are the result of a PCA transformation. Unfortunately, due to confidentiality issues, we cannot provide the original features and more background information about the data. Features V1, V2, ... V28 are the principal components obtained with PCA, the only features which have not been transformed with PCA are 'Time' and 'Amount'. Feature 'Time' contains the seconds elapsed between each transaction and the first transaction in the dataset. The feature 'Amount' is the transaction Amount, this feature can be used for example-dependant cost-senstive learning. Feature 'Class' is the response variable and it takes value 1 in case of fraud and 0 otherwise."
   ]
  },
  {
   "cell_type": "code",
   "execution_count": null,
   "metadata": {
    "id": "vG1rBO8c80sI"
   },
   "outputs": [],
   "source": []
  },
  {
   "cell_type": "code",
   "execution_count": null,
   "metadata": {
    "id": "wFsqbkB8uEAS"
   },
   "outputs": [],
   "source": [
    "# Starting with useful imports\n",
    "import csv\n",
    "import numpy as np\n",
    "import matplotlib.pyplot as plt"
   ]
  },
  {
   "cell_type": "code",
   "execution_count": null,
   "metadata": {
    "id": "vXLfrgC0meKw"
   },
   "outputs": [],
   "source": [
    "import sklearn.metrics as metric\n",
    "from sklearn.metrics import confusion_matrix\n",
    "from sklearn.metrics import fbeta_score\n",
    "import seaborn as sns\n",
    "import matplotlib.pyplot as plt\n",
    "import matplotlib as mpl"
   ]
  },
  {
   "cell_type": "code",
   "execution_count": null,
   "metadata": {
    "id": "9khrUTjqbNiO"
   },
   "outputs": [],
   "source": [
    "from tensorflow.keras import Sequential\n",
    "import tensorflow as tf\n",
    "from tensorflow.keras.layers import Input, Dense\n",
    "from tensorflow.keras.models import Model\n"
   ]
  },
  {
   "cell_type": "code",
   "execution_count": null,
   "metadata": {
    "colab": {
     "base_uri": "https://localhost:8080/"
    },
    "id": "rsAKDTuEwcLn",
    "outputId": "8c4de6cb-4a51-4cc5-fed3-fef9671d1074"
   },
   "outputs": [
    {
     "name": "stdout",
     "output_type": "stream",
     "text": [
      "Mounted at /gdrive\n",
      "/gdrive\n"
     ]
    }
   ],
   "source": [
    "from google.colab import drive\n",
    "drive.mount('/gdrive')\n",
    "%cd /gdrive"
   ]
  },
  {
   "cell_type": "code",
   "execution_count": null,
   "metadata": {
    "colab": {
     "base_uri": "https://localhost:8080/"
    },
    "id": "FGd-8-qFwm5e",
    "outputId": "b84fc289-b606-4dbc-aebe-e593b6166e48"
   },
   "outputs": [
    {
     "name": "stdout",
     "output_type": "stream",
     "text": [
      "'Assignment_1 Linear regression.ipynb'\n",
      "'Assignment 1 - Logistic regression.ipynb'\n",
      "'Assignment_1_Logistic regression using cross entropy (One VS Rest).ipynb'\n",
      "'Assignment 2 XOR with backpropogation.ipynb'\n",
      "'Assignment 3 - Backprop for Iris Dataset (Python code).ipynb'\n",
      "'assignmentListStringDict (1).tar'\n",
      " assignmentListStringDict.tar\n",
      " Boolean_Assignement_RitaThakor.ipynb\n",
      " Complex_Assignement_RitaThakor.ipynb\n",
      " Conditional_and_loop_assignment_RitaThakor.ipynb\n",
      "'Copy of List_Assignment.ipynb'\n",
      "'Copy of Tensorflow_2_Practice.ipynb'\n",
      " creditcard.csv\n",
      "'Credit card fraud.ipynb'\n",
      " Dictionary_Assignment_RitaThakor.ipynb\n",
      " float_assignment_RitaThakor.ipynb\n",
      " Function_Assignment-RitaThakor.ipynb\n",
      " int_assignment_RitaThakor.ipynb\n",
      " List_Assignment_RitaThakor.ipynb\n",
      " Numpy_assignment_RitaThakor.ipynb\n",
      "'string_assignment_ritathakor (1).ipynb'\n",
      " string_assignment_ritathakor.ipynb\n",
      " Tensorflow_2_Practice.ipynb\n",
      " Untitled0.ipynb\n",
      " Untitled1.ipynb\n",
      " WordToVec-SkipGram.ipynb\n"
     ]
    }
   ],
   "source": [
    "ls MyDrive/'Colab Notebooks'"
   ]
  },
  {
   "cell_type": "code",
   "execution_count": null,
   "metadata": {
    "colab": {
     "base_uri": "https://localhost:8080/"
    },
    "id": "eaOHk64pvqCb",
    "outputId": "d83f6149-3d90-4087-9cac-479e1aac5350"
   },
   "outputs": [
    {
     "name": "stdout",
     "output_type": "stream",
     "text": [
      "HEADER: \"Time\",\"V1\",\"V2\",\"V3\",\"V4\",\"V5\",\"V6\",\"V7\",\"V8\",\"V9\",\"V10\",\"V11\",\"V12\",\"V13\",\"V14\",\"V15\",\"V16\",\"V17\",\"V18\",\"V19\",\"V20\",\"V21\",\"V22\",\"V23\",\"V24\",\"V25\",\"V26\",\"V27\",\"V28\",\"Amount\",\"Class\"\n",
      "EXAMPLE FEATURES: [0.0, -1.3598071336738, -0.0727811733098497, 2.53634673796914, 1.37815522427443, -0.338320769942518, 0.462387777762292, 0.239598554061257, 0.0986979012610507, 0.363786969611213, 0.0907941719789316, -0.551599533260813, -0.617800855762348, -0.991389847235408, -0.311169353699879, 1.46817697209427, -0.470400525259478, 0.207971241929242, 0.0257905801985591, 0.403992960255733, 0.251412098239705, -0.018306777944153, 0.277837575558899, -0.110473910188767, 0.0669280749146731, 0.128539358273528, -0.189114843888824, 0.133558376740387, -0.0210530534538215, 149.62]\n",
      "features.shape: (284807, 30)\n",
      "targets.shape: (284807, 1)\n"
     ]
    }
   ],
   "source": [
    "fname = 'MyDrive/Colab Notebooks/creditcard.csv'\n",
    "all_features = []\n",
    "all_targets = []\n",
    "with open(fname) as f:\n",
    "  for i, line in enumerate(f):\n",
    "    if i == 0:\n",
    "      print('HEADER:', line.strip())\n",
    "      continue  # Skip header\n",
    "    fields = line.strip().split(',')\n",
    "    all_features.append([float(v.replace('\"', '')) for v in fields[:-1]])\n",
    "    all_targets.append([int(fields[-1].replace('\"', ''))])\n",
    "    if i == 1:\n",
    "      print('EXAMPLE FEATURES:', all_features[-1])\n",
    "    \n",
    "features = np.array(all_features, dtype='float32')\n",
    "targets = np.array(all_targets, dtype='uint8')\n",
    "print('features.shape:', features.shape)\n",
    "print('targets.shape:', targets.shape)"
   ]
  },
  {
   "cell_type": "markdown",
   "metadata": {
    "id": "qnTMMUt-Er_S"
   },
   "source": [
    "**Split the samples in train and test**"
   ]
  },
  {
   "cell_type": "code",
   "execution_count": null,
   "metadata": {
    "colab": {
     "base_uri": "https://localhost:8080/"
    },
    "id": "FoQehT1Xx8Fj",
    "outputId": "b487c99b-3cab-4d05-b71f-6472d52797c0"
   },
   "outputs": [
    {
     "name": "stdout",
     "output_type": "stream",
     "text": [
      "Number of training samples: 227846\n",
      "Number of test samples: 56961\n"
     ]
    }
   ],
   "source": [
    "num_test_samples = int(len(features) * 0.2)\n",
    "train_features = features[:-num_test_samples]\n",
    "train_targets = targets[:-num_test_samples]\n",
    "test_features = features[-num_test_samples:]\n",
    "test_targets = targets[-num_test_samples:]\n",
    "print('Number of training samples:', len(train_features))\n",
    "print('Number of test samples:', len(test_features))"
   ]
  },
  {
   "cell_type": "markdown",
   "metadata": {
    "id": "67RckGv3E3PT"
   },
   "source": [
    "**check 0 and 1 distribution with respect to total samples**"
   ]
  },
  {
   "cell_type": "code",
   "execution_count": null,
   "metadata": {
    "colab": {
     "base_uri": "https://localhost:8080/"
    },
    "id": "wFQdfcZ6yX-P",
    "outputId": "b44c244d-1f81-4cc6-965e-6f72db9ba017"
   },
   "outputs": [
    {
     "name": "stdout",
     "output_type": "stream",
     "text": [
      "Number of positive samples in training data: 417 (0.18% of total)\n"
     ]
    }
   ],
   "source": [
    "counts = np.bincount(train_targets[:, 0])\n",
    "print('Number of positive samples in training data: {} ({:.2f}% of total)'.format(counts[1], 100 * float(counts[1]) / len(train_targets)))"
   ]
  },
  {
   "cell_type": "code",
   "execution_count": null,
   "metadata": {
    "colab": {
     "base_uri": "https://localhost:8080/"
    },
    "id": "M-MCs6-HHjfi",
    "outputId": "d2e9af8d-16c2-486d-95d3-39d8f2ca10b3"
   },
   "outputs": [
    {
     "name": "stdout",
     "output_type": "stream",
     "text": [
      "Number of positive samples in testing data: 75 (0.13% of total)\n"
     ]
    }
   ],
   "source": [
    "counts = np.bincount(test_targets[:, 0])\n",
    "print('Number of positive samples in testing data: {} ({:.2f}% of total)'.format(counts[1], 100 * float(counts[1]) / len(test_targets)))"
   ]
  },
  {
   "cell_type": "markdown",
   "metadata": {
    "id": "punZ-mXYFBo0"
   },
   "source": [
    "**standardise features by subtracting it with mean and diving by std deviation**"
   ]
  },
  {
   "cell_type": "code",
   "execution_count": null,
   "metadata": {
    "id": "NpjmV5FuIcJ4"
   },
   "outputs": [],
   "source": [
    "mean = np.mean(train_features, axis=0)\n",
    "train_features -= mean\n",
    "test_features -= mean\n",
    "std = np.std(train_features, axis=0)\n",
    "train_features /= std\n",
    "test_features /= std"
   ]
  },
  {
   "cell_type": "code",
   "execution_count": null,
   "metadata": {
    "colab": {
     "base_uri": "https://localhost:8080/"
    },
    "id": "JDWZt4NqKjwq",
    "outputId": "cdc59be1-b9c2-4294-f29b-8536b0393da2"
   },
   "outputs": [
    {
     "data": {
      "text/plain": [
       "(227846, 30)"
      ]
     },
     "execution_count": 12,
     "metadata": {
      "tags": []
     },
     "output_type": "execute_result"
    }
   ],
   "source": [
    "train_features.shape"
   ]
  },
  {
   "cell_type": "markdown",
   "metadata": {
    "id": "GLLZgau1FRmj"
   },
   "source": [
    "**function for ploting confusion matrix, ROC curve, F1Score**"
   ]
  },
  {
   "cell_type": "code",
   "execution_count": null,
   "metadata": {
    "id": "9m5cq8ptqtwA"
   },
   "outputs": [],
   "source": [
    "def plot_cm(labels, predictions, p=0.5):\n",
    "  cm = confusion_matrix(labels, predictions > p)\n",
    "  plt.figure(figsize=(5,5))\n",
    "  sns.heatmap(cm, annot=True, fmt=\"d\")\n",
    "  plt.title('Confusion matrix @{:.2f}'.format(p))\n",
    "  plt.ylabel('Actual label')\n",
    "  plt.xlabel('Predicted label')"
   ]
  },
  {
   "cell_type": "code",
   "execution_count": null,
   "metadata": {
    "id": "Hud1OzG3ZSWA"
   },
   "outputs": [],
   "source": [
    "def plot_roc(name, labels, predictions, **kwargs):\n",
    "  fp, tp, _ = metric.roc_curve(labels, predictions)\n",
    "  plt.plot(100*fp, 100*tp, label=name, linewidth=2, **kwargs)\n",
    "  plt.xlabel('False positives [%]')\n",
    "  plt.ylabel('True positives [%]')\n",
    "  plt.xlim([-0.5,100])\n",
    "  plt.ylim([40,100.5])\n",
    "  plt.grid(True)\n",
    "  ax = plt.gca()\n",
    "  ax.set_aspect('equal')"
   ]
  },
  {
   "cell_type": "code",
   "execution_count": null,
   "metadata": {
    "id": "05T6H6o5sov9"
   },
   "outputs": [],
   "source": [
    "def F1Scrore(ytrue, ypred, beta=1.0, threshold=0.5):\n",
    "  ypred = np.array(ypred >= threshold, dtype=np.float32)\n",
    "\n",
    "  return fbeta_score(ytrue, ypred, beta)"
   ]
  },
  {
   "cell_type": "markdown",
   "metadata": {
    "id": "v0jmw6Y7mref"
   },
   "source": [
    "**Model 1  -classification problem with unbalanced data**"
   ]
  },
  {
   "cell_type": "code",
   "execution_count": null,
   "metadata": {
    "id": "fxVEdXsGUMFk"
   },
   "outputs": [],
   "source": [
    "num_val_samples = 68353\n",
    "x_val = train_features[-num_val_samples:]\n",
    "y_val = train_targets[-num_val_samples:]\n",
    "x_train_val = train_features[:-num_val_samples]\n",
    "y_train_val = train_targets[:-num_val_samples]\n"
   ]
  },
  {
   "cell_type": "code",
   "execution_count": null,
   "metadata": {
    "colab": {
     "base_uri": "https://localhost:8080/"
    },
    "id": "6mfBhGO5UrCB",
    "outputId": "cbca7850-15fe-43d0-cafe-9e8d9b1f31f8"
   },
   "outputs": [
    {
     "data": {
      "text/plain": [
       "(159493, 30)"
      ]
     },
     "execution_count": 123,
     "metadata": {
      "tags": []
     },
     "output_type": "execute_result"
    }
   ],
   "source": [
    "x_train_val.shape"
   ]
  },
  {
   "cell_type": "code",
   "execution_count": null,
   "metadata": {
    "id": "nu13EcKodU1e"
   },
   "outputs": [],
   "source": [
    "listMetric = [\n",
    "      tf.keras.metrics.BinaryAccuracy(name='accuracy'),\n",
    "      tf.keras.metrics.Precision(name='precision'),\n",
    "      tf.keras.metrics.Recall(name='recall')\n",
    "]"
   ]
  },
  {
   "cell_type": "code",
   "execution_count": null,
   "metadata": {
    "id": "gNQFAvehKJz4"
   },
   "outputs": [],
   "source": [
    "\n",
    "# Instantiate a simple classification model\n",
    "model = tf.keras.Sequential([\n",
    "  tf.keras.layers.Dense(16, activation=tf.nn.relu),\n",
    "  tf.keras.layers.Dense(8, activation=tf.nn.relu),\n",
    "  tf.keras.layers.Dense(1, activation=tf.nn.sigmoid)\n",
    "])"
   ]
  },
  {
   "cell_type": "code",
   "execution_count": null,
   "metadata": {
    "id": "lQ_-KvO4TZMH"
   },
   "outputs": [],
   "source": [
    "model.compile(loss='binary_crossentropy', optimizer=tf.keras.optimizers.Adam(learning_rate=1e-3), metrics=listMetric)"
   ]
  },
  {
   "cell_type": "markdown",
   "metadata": {
    "id": "mfn6VAK3l2mi"
   },
   "source": [
    "Selecting batch size as larger to have class of 1 also available in it."
   ]
  },
  {
   "cell_type": "code",
   "execution_count": null,
   "metadata": {
    "colab": {
     "base_uri": "https://localhost:8080/"
    },
    "id": "6le96s4_UFnV",
    "outputId": "e413de7b-64d8-4693-9c03-f573feb206af"
   },
   "outputs": [
    {
     "name": "stdout",
     "output_type": "stream",
     "text": [
      "Epoch 1/20\n",
      "80/80 [==============================] - 1s 8ms/step - loss: 0.9253 - accuracy: 0.5048 - precision: 0.0035 - recall: 0.8770 - val_loss: 0.6516 - val_accuracy: 0.6948 - val_precision: 0.0022 - val_recall: 0.7377\n",
      "Epoch 2/20\n",
      "80/80 [==============================] - 0s 5ms/step - loss: 0.4722 - accuracy: 0.9709 - precision: 0.0399 - recall: 0.5225 - val_loss: 0.3449 - val_accuracy: 0.9906 - val_precision: 0.0426 - val_recall: 0.4426\n",
      "Epoch 3/20\n",
      "80/80 [==============================] - 0s 4ms/step - loss: 0.2013 - accuracy: 0.9980 - precision: 0.5691 - recall: 0.4860 - val_loss: 0.1868 - val_accuracy: 0.9990 - val_precision: 0.4423 - val_recall: 0.3770\n",
      "Epoch 4/20\n",
      "80/80 [==============================] - 0s 5ms/step - loss: 0.0724 - accuracy: 0.9987 - precision: 0.8364 - recall: 0.5169 - val_loss: 0.1150 - val_accuracy: 0.9993 - val_precision: 0.7059 - val_recall: 0.3934\n",
      "Epoch 5/20\n",
      "80/80 [==============================] - 0s 4ms/step - loss: 0.0325 - accuracy: 0.9987 - precision: 0.8444 - recall: 0.5337 - val_loss: 0.0814 - val_accuracy: 0.9993 - val_precision: 0.7778 - val_recall: 0.3443\n",
      "Epoch 6/20\n",
      "80/80 [==============================] - 0s 4ms/step - loss: 0.0194 - accuracy: 0.9988 - precision: 0.8502 - recall: 0.5421 - val_loss: 0.0630 - val_accuracy: 0.9993 - val_precision: 0.7857 - val_recall: 0.3607\n",
      "Epoch 7/20\n",
      "80/80 [==============================] - 0s 4ms/step - loss: 0.0139 - accuracy: 0.9989 - precision: 0.8595 - recall: 0.5843 - val_loss: 0.0514 - val_accuracy: 0.9994 - val_precision: 0.8148 - val_recall: 0.3607\n",
      "Epoch 8/20\n",
      "80/80 [==============================] - 0s 4ms/step - loss: 0.0109 - accuracy: 0.9988 - precision: 0.8559 - recall: 0.5674 - val_loss: 0.0435 - val_accuracy: 0.9994 - val_precision: 0.8387 - val_recall: 0.4262\n",
      "Epoch 9/20\n",
      "80/80 [==============================] - 0s 4ms/step - loss: 0.0091 - accuracy: 0.9989 - precision: 0.8667 - recall: 0.6208 - val_loss: 0.0375 - val_accuracy: 0.9994 - val_precision: 0.8333 - val_recall: 0.4098\n",
      "Epoch 10/20\n",
      "80/80 [==============================] - 0s 4ms/step - loss: 0.0080 - accuracy: 0.9989 - precision: 0.8566 - recall: 0.5871 - val_loss: 0.0328 - val_accuracy: 0.9994 - val_precision: 0.8438 - val_recall: 0.4426\n",
      "Epoch 11/20\n",
      "80/80 [==============================] - 0s 4ms/step - loss: 0.0072 - accuracy: 0.9990 - precision: 0.8692 - recall: 0.6348 - val_loss: 0.0293 - val_accuracy: 0.9994 - val_precision: 0.8333 - val_recall: 0.4098\n",
      "Epoch 12/20\n",
      "80/80 [==============================] - 0s 4ms/step - loss: 0.0066 - accuracy: 0.9990 - precision: 0.8664 - recall: 0.6376 - val_loss: 0.0263 - val_accuracy: 0.9994 - val_precision: 0.8621 - val_recall: 0.4098\n",
      "Epoch 13/20\n",
      "80/80 [==============================] - 0s 5ms/step - loss: 0.0061 - accuracy: 0.9989 - precision: 0.8672 - recall: 0.6236 - val_loss: 0.0239 - val_accuracy: 0.9994 - val_precision: 0.8710 - val_recall: 0.4426\n",
      "Epoch 14/20\n",
      "80/80 [==============================] - 0s 4ms/step - loss: 0.0057 - accuracy: 0.9990 - precision: 0.8679 - recall: 0.6461 - val_loss: 0.0219 - val_accuracy: 0.9994 - val_precision: 0.8710 - val_recall: 0.4426\n",
      "Epoch 15/20\n",
      "80/80 [==============================] - 0s 4ms/step - loss: 0.0055 - accuracy: 0.9989 - precision: 0.8672 - recall: 0.6236 - val_loss: 0.0202 - val_accuracy: 0.9994 - val_precision: 0.8710 - val_recall: 0.4426\n",
      "Epoch 16/20\n",
      "80/80 [==============================] - 0s 4ms/step - loss: 0.0052 - accuracy: 0.9990 - precision: 0.8664 - recall: 0.6376 - val_loss: 0.0186 - val_accuracy: 0.9994 - val_precision: 0.8710 - val_recall: 0.4426\n",
      "Epoch 17/20\n",
      "80/80 [==============================] - 0s 5ms/step - loss: 0.0050 - accuracy: 0.9990 - precision: 0.8741 - recall: 0.6629 - val_loss: 0.0174 - val_accuracy: 0.9995 - val_precision: 0.8824 - val_recall: 0.4918\n",
      "Epoch 18/20\n",
      "80/80 [==============================] - 0s 5ms/step - loss: 0.0048 - accuracy: 0.9991 - precision: 0.8768 - recall: 0.6798 - val_loss: 0.0162 - val_accuracy: 0.9995 - val_precision: 0.8824 - val_recall: 0.4918\n",
      "Epoch 19/20\n",
      "80/80 [==============================] - 0s 5ms/step - loss: 0.0046 - accuracy: 0.9991 - precision: 0.8787 - recall: 0.6713 - val_loss: 0.0152 - val_accuracy: 0.9995 - val_precision: 0.8889 - val_recall: 0.5246\n",
      "Epoch 20/20\n",
      "80/80 [==============================] - 0s 5ms/step - loss: 0.0045 - accuracy: 0.9991 - precision: 0.8781 - recall: 0.6882 - val_loss: 0.0143 - val_accuracy: 0.9995 - val_precision: 0.8919 - val_recall: 0.5410\n"
     ]
    }
   ],
   "source": [
    "matric_history = model.fit(x_train_val, y_train_val,\n",
    "          validation_data=(x_val, y_val),\n",
    "          epochs=20,\n",
    "          batch_size=2000, verbose=1)"
   ]
  },
  {
   "cell_type": "code",
   "execution_count": null,
   "metadata": {
    "colab": {
     "base_uri": "https://localhost:8080/"
    },
    "id": "FlKtiYs7U2uz",
    "outputId": "a4cf783f-6593-4a7d-e6b2-58647eeece54"
   },
   "outputs": [
    {
     "name": "stdout",
     "output_type": "stream",
     "text": [
      "29/29 [==============================] - 0s 3ms/step - loss: 0.0192 - accuracy: 0.9994 - precision: 0.9388 - recall: 0.6133\n",
      "Loss: 0.0192\n"
     ]
    }
   ],
   "source": [
    "ret = model.evaluate(test_features, test_targets,batch_size=2000, verbose=1)\n",
    "print(\"Loss: {:0.4f}\".format(ret[0]))"
   ]
  },
  {
   "cell_type": "code",
   "execution_count": null,
   "metadata": {
    "id": "NxWaJFg2YMwu"
   },
   "outputs": [],
   "source": [
    "y_pred_train = model.predict(train_features, batch_size=2000)"
   ]
  },
  {
   "cell_type": "code",
   "execution_count": null,
   "metadata": {
    "id": "cwhpJDcvZED7"
   },
   "outputs": [],
   "source": [
    "y_pred_test = model.predict(test_features, batch_size=2000)"
   ]
  },
  {
   "cell_type": "code",
   "execution_count": null,
   "metadata": {
    "colab": {
     "base_uri": "https://localhost:8080/",
     "height": 367
    },
    "id": "zcDuXkfmrfSq",
    "outputId": "f9b4f129-0a1a-4e22-9b39-670ac33a7748"
   },
   "outputs": [
    {
     "name": "stdout",
     "output_type": "stream",
     "text": [
      "F1Score for train data 0.7591836734693876\n"
     ]
    },
    {
     "data": {
      "image/png": "[encoded data removed]",
      "text/plain": [
       "<Figure size 360x360 with 2 Axes>"
      ]
     },
     "metadata": {
      "needs_background": "light",
      "tags": []
     },
     "output_type": "display_data"
    }
   ],
   "source": [
    "plot_cm(train_targets, y_pred_train)\n",
    "print(\"F1Score for train data\",F1Scrore(train_targets, y_pred_train))"
   ]
  },
  {
   "cell_type": "code",
   "execution_count": null,
   "metadata": {
    "colab": {
     "base_uri": "https://localhost:8080/",
     "height": 367
    },
    "id": "TLTojBSErBp-",
    "outputId": "f7876508-2881-491d-93ce-787c939b4ef6"
   },
   "outputs": [
    {
     "name": "stdout",
     "output_type": "stream",
     "text": [
      "F1Score for test data 0.7419354838709676\n"
     ]
    },
    {
     "data": {
      "image/png": "[encoded data removed]",
      "text/plain": [
       "<Figure size 360x360 with 2 Axes>"
      ]
     },
     "metadata": {
      "needs_background": "light",
      "tags": []
     },
     "output_type": "display_data"
    }
   ],
   "source": [
    "print(\"F1Score for test data\",F1Scrore(test_targets, y_pred_test))\n",
    "plot_cm(test_targets, y_pred_test)"
   ]
  },
  {
   "cell_type": "code",
   "execution_count": null,
   "metadata": {
    "colab": {
     "base_uri": "https://localhost:8080/",
     "height": 283
    },
    "id": "3fmkoAsDZ14G",
    "outputId": "ebe5ba88-97fa-4ab8-af27-4885d16a980c"
   },
   "outputs": [
    {
     "data": {
      "text/plain": [
       "<matplotlib.legend.Legend at 0x7f1b56a82bd0>"
      ]
     },
     "execution_count": 172,
     "metadata": {
      "tags": []
     },
     "output_type": "execute_result"
    },
    {
     "data": {
      "image/png": "[encoded data removed]",
      "text/plain": [
       "<Figure size 432x288 with 1 Axes>"
      ]
     },
     "metadata": {
      "needs_background": "light",
      "tags": []
     },
     "output_type": "display_data"
    }
   ],
   "source": [
    "plot_roc(\"Train Baseline\", train_targets, y_pred_train)\n",
    "plot_roc(\"Test Baseline\", test_targets, y_pred_test, linestyle='--')\n",
    "plt.legend(loc='lower center')"
   ]
  },
  {
   "cell_type": "markdown",
   "metadata": {
    "id": "PcrgjTtA5Lmw"
   },
   "source": [
    "**Model -2 Use Smote for unbalanced classes and fit the model again**"
   ]
  },
  {
   "cell_type": "code",
   "execution_count": null,
   "metadata": {
    "id": "6QfpewhRv_2u"
   },
   "outputs": [],
   "source": [
    "from imblearn.over_sampling import SMOTE"
   ]
  },
  {
   "cell_type": "code",
   "execution_count": null,
   "metadata": {
    "colab": {
     "base_uri": "https://localhost:8080/"
    },
    "id": "1S8eFNAKayqT",
    "outputId": "425e272e-5502-48b6-f694-e1b5881a433a"
   },
   "outputs": [
    {
     "name": "stderr",
     "output_type": "stream",
     "text": [
      "/usr/local/lib/python3.7/dist-packages/sklearn/utils/validation.py:760: DataConversionWarning: A column-vector y was passed when a 1d array was expected. Please change the shape of y to (n_samples, ), for example using ravel().\n",
      "  y = column_or_1d(y, warn=True)\n",
      "/usr/local/lib/python3.7/dist-packages/sklearn/utils/deprecation.py:87: FutureWarning: Function safe_indexing is deprecated; safe_indexing is deprecated in version 0.22 and will be removed in version 0.24.\n",
      "  warnings.warn(msg, category=FutureWarning)\n"
     ]
    },
    {
     "name": "stdout",
     "output_type": "stream",
     "text": [
      "454858\n",
      "Fraudulent transactions are 50.00% of the test set.\n"
     ]
    }
   ],
   "source": [
    "X_train_smote, y_train_smote = SMOTE(random_state=1234).fit_resample(train_features, train_targets)\n",
    "class_0_count = np.count_nonzero(y_train_smote == 0)\n",
    "class_1_count = np.count_nonzero(y_train_smote == 1)\n",
    "print(len(y_train_smote))\n",
    "# smote_value_counts = y_train_smote[\"Class\"].value_counts()\n",
    "print(\"Fraudulent transactions are %.2f%% of the test set.\" % (class_0_count * 100 / len(y_train_smote)))"
   ]
  },
  {
   "cell_type": "code",
   "execution_count": null,
   "metadata": {
    "colab": {
     "base_uri": "https://localhost:8080/"
    },
    "id": "CDOIMRTm_BD1",
    "outputId": "2e63d3c8-87a8-4f4e-f9c6-f988ba3badf8"
   },
   "outputs": [
    {
     "data": {
      "text/plain": [
       "454858"
      ]
     },
     "execution_count": 175,
     "metadata": {
      "tags": []
     },
     "output_type": "execute_result"
    }
   ],
   "source": [
    "class_0_count + class_1_count"
   ]
  },
  {
   "cell_type": "code",
   "execution_count": null,
   "metadata": {
    "id": "3_CqI4P5zMVc"
   },
   "outputs": [],
   "source": [
    "num_val_samples = 68353*2 # doubled the sample of test here, as no of samples gets doubled in output of smote\n",
    "x_smote_val = X_train_smote[-num_val_samples:]\n",
    "y_smote_val = y_train_smote[-num_val_samples:]\n",
    "x_smote_train_val = X_train_smote[:-num_val_samples]\n",
    "y_smote_train_val = y_train_smote[:-num_val_samples]"
   ]
  },
  {
   "cell_type": "code",
   "execution_count": null,
   "metadata": {
    "colab": {
     "base_uri": "https://localhost:8080/"
    },
    "id": "3MzKHeTWkhBt",
    "outputId": "b22b2a7e-b31a-4db3-9579-3222622e111d"
   },
   "outputs": [
    {
     "data": {
      "text/plain": [
       "(136706, 30)"
      ]
     },
     "execution_count": 177,
     "metadata": {
      "tags": []
     },
     "output_type": "execute_result"
    }
   ],
   "source": [
    "x_smote_val.shape"
   ]
  },
  {
   "cell_type": "code",
   "execution_count": null,
   "metadata": {
    "id": "XcMZg63iz4VK"
   },
   "outputs": [],
   "source": [
    "# Instantiate a simple classification model\n",
    "modelWithSmote = tf.keras.Sequential([\n",
    "  tf.keras.layers.Dense(16, activation=tf.nn.relu),\n",
    "  # tf.keras.layers.Dropout(0.5),\n",
    "  tf.keras.layers.Dense(8, activation=tf.nn.relu),\n",
    "  tf.keras.layers.Dense(1, activation=tf.nn.sigmoid)\n",
    "])"
   ]
  },
  {
   "cell_type": "code",
   "execution_count": null,
   "metadata": {
    "id": "azMQC_MUz9_k"
   },
   "outputs": [],
   "source": [
    "modelWithSmote.compile(loss='binary_crossentropy', optimizer='adam', metrics=listMetric)"
   ]
  },
  {
   "cell_type": "code",
   "execution_count": null,
   "metadata": {
    "colab": {
     "base_uri": "https://localhost:8080/"
    },
    "id": "G81iCqhiv-xk",
    "outputId": "55815d49-4ee5-4877-c356-bdbcb0d22544"
   },
   "outputs": [
    {
     "name": "stdout",
     "output_type": "stream",
     "text": [
      "Epoch 1/20\n",
      "10606/10606 [==============================] - 41s 4ms/step - loss: 0.0468 - accuracy: 0.9863 - precision: 0.9809 - recall: 0.9620 - val_loss: 0.0326 - val_accuracy: 0.9919 - val_precision: 1.0000 - val_recall: 0.9919\n",
      "Epoch 2/20\n",
      "10606/10606 [==============================] - 39s 4ms/step - loss: 0.0123 - accuracy: 0.9968 - precision: 0.9913 - recall: 0.9977 - val_loss: 0.0311 - val_accuracy: 0.9898 - val_precision: 1.0000 - val_recall: 0.9898\n",
      "Epoch 3/20\n",
      "10606/10606 [==============================] - 40s 4ms/step - loss: 0.0086 - accuracy: 0.9978 - precision: 0.9940 - recall: 0.9983 - val_loss: 0.0093 - val_accuracy: 0.9986 - val_precision: 1.0000 - val_recall: 0.9986\n",
      "Epoch 4/20\n",
      "10606/10606 [==============================] - 39s 4ms/step - loss: 0.0065 - accuracy: 0.9984 - precision: 0.9955 - recall: 0.9989 - val_loss: 0.0066 - val_accuracy: 0.9994 - val_precision: 1.0000 - val_recall: 0.9994\n",
      "Epoch 5/20\n",
      "10606/10606 [==============================] - 39s 4ms/step - loss: 0.0055 - accuracy: 0.9986 - precision: 0.9962 - recall: 0.9989 - val_loss: 0.0048 - val_accuracy: 0.9993 - val_precision: 1.0000 - val_recall: 0.9993\n",
      "Epoch 6/20\n",
      "10606/10606 [==============================] - 39s 4ms/step - loss: 0.0048 - accuracy: 0.9988 - precision: 0.9968 - recall: 0.9990 - val_loss: 0.0034 - val_accuracy: 0.9996 - val_precision: 1.0000 - val_recall: 0.9996\n",
      "Epoch 7/20\n",
      "10606/10606 [==============================] - 38s 4ms/step - loss: 0.0048 - accuracy: 0.9989 - precision: 0.9971 - recall: 0.9989 - val_loss: 0.0037 - val_accuracy: 0.9996 - val_precision: 1.0000 - val_recall: 0.9996\n",
      "Epoch 8/20\n",
      "10606/10606 [==============================] - 38s 4ms/step - loss: 0.0038 - accuracy: 0.9991 - precision: 0.9974 - recall: 0.9993 - val_loss: 0.0034 - val_accuracy: 0.9991 - val_precision: 1.0000 - val_recall: 0.9991\n",
      "Epoch 9/20\n",
      "10606/10606 [==============================] - 39s 4ms/step - loss: 0.0036 - accuracy: 0.9991 - precision: 0.9977 - recall: 0.9993 - val_loss: 0.0028 - val_accuracy: 0.9994 - val_precision: 1.0000 - val_recall: 0.9994\n",
      "Epoch 10/20\n",
      "10606/10606 [==============================] - 38s 4ms/step - loss: 0.0035 - accuracy: 0.9991 - precision: 0.9977 - recall: 0.9991 - val_loss: 0.0014 - val_accuracy: 0.9999 - val_precision: 1.0000 - val_recall: 0.9999\n",
      "Epoch 11/20\n",
      "10606/10606 [==============================] - 38s 4ms/step - loss: 0.0034 - accuracy: 0.9992 - precision: 0.9978 - recall: 0.9993 - val_loss: 0.0020 - val_accuracy: 0.9998 - val_precision: 1.0000 - val_recall: 0.9998\n",
      "Epoch 12/20\n",
      "10606/10606 [==============================] - 38s 4ms/step - loss: 0.0032 - accuracy: 0.9992 - precision: 0.9979 - recall: 0.9993 - val_loss: 0.0018 - val_accuracy: 0.9997 - val_precision: 1.0000 - val_recall: 0.9997\n",
      "Epoch 13/20\n",
      "10606/10606 [==============================] - 38s 4ms/step - loss: 0.0032 - accuracy: 0.9993 - precision: 0.9980 - recall: 0.9995 - val_loss: 0.0024 - val_accuracy: 0.9997 - val_precision: 1.0000 - val_recall: 0.9997\n",
      "Epoch 14/20\n",
      "10606/10606 [==============================] - 38s 4ms/step - loss: 0.0030 - accuracy: 0.9993 - precision: 0.9981 - recall: 0.9993 - val_loss: 0.0020 - val_accuracy: 0.9997 - val_precision: 1.0000 - val_recall: 0.9997\n",
      "Epoch 15/20\n",
      "10606/10606 [==============================] - 38s 4ms/step - loss: 0.0029 - accuracy: 0.9993 - precision: 0.9983 - recall: 0.9993 - val_loss: 0.0027 - val_accuracy: 0.9993 - val_precision: 1.0000 - val_recall: 0.9993\n",
      "Epoch 16/20\n",
      "10606/10606 [==============================] - 38s 4ms/step - loss: 0.0029 - accuracy: 0.9993 - precision: 0.9981 - recall: 0.9994 - val_loss: 0.0028 - val_accuracy: 0.9996 - val_precision: 1.0000 - val_recall: 0.9996\n",
      "Epoch 17/20\n",
      "10606/10606 [==============================] - 39s 4ms/step - loss: 0.0027 - accuracy: 0.9994 - precision: 0.9982 - recall: 0.9995 - val_loss: 0.0015 - val_accuracy: 0.9998 - val_precision: 1.0000 - val_recall: 0.9998\n",
      "Epoch 18/20\n",
      "10606/10606 [==============================] - 39s 4ms/step - loss: 0.0026 - accuracy: 0.9994 - precision: 0.9984 - recall: 0.9994 - val_loss: 0.0016 - val_accuracy: 1.0000 - val_precision: 1.0000 - val_recall: 1.0000\n",
      "Epoch 19/20\n",
      "10606/10606 [==============================] - 38s 4ms/step - loss: 0.0027 - accuracy: 0.9993 - precision: 0.9983 - recall: 0.9994 - val_loss: 0.0030 - val_accuracy: 0.9994 - val_precision: 1.0000 - val_recall: 0.9994\n",
      "Epoch 20/20\n",
      "10606/10606 [==============================] - 38s 4ms/step - loss: 0.0024 - accuracy: 0.9994 - precision: 0.9983 - recall: 0.9996 - val_loss: 9.7863e-04 - val_accuracy: 1.0000 - val_precision: 1.0000 - val_recall: 1.0000\n"
     ]
    }
   ],
   "source": [
    "matric_history = modelWithSmote.fit(x_smote_train_val, y_smote_train_val,\n",
    "          validation_data=(x_smote_val, y_smote_val),\n",
    "          epochs=20,\n",
    "          batch_size=30, verbose=1)"
   ]
  },
  {
   "cell_type": "code",
   "execution_count": null,
   "metadata": {
    "colab": {
     "base_uri": "https://localhost:8080/",
     "height": 52
    },
    "id": "5-wqxj8f0HBf",
    "outputId": "6e2d4a99-6f66-4070-8b84-99c4dd817818"
   },
   "outputs": [
    {
     "name": "stdout",
     "output_type": "stream",
     "text": [
      "1781/1781 [==============================] - 5s 3ms/step - loss: 0.0166 - accuracy: 0.9994 - precision: 0.7910 - recall: 0.7067\n"
     ]
    },
    {
     "data": {
      "application/vnd.google.colaboratory.intrinsic+json": {
       "type": "string"
      },
      "text/plain": [
       "'Loss: 0.0192'"
      ]
     },
     "execution_count": 182,
     "metadata": {
      "tags": []
     },
     "output_type": "execute_result"
    }
   ],
   "source": [
    "retModelWithSmote = modelWithSmote.evaluate(test_features, test_targets)\n",
    "(\"Loss: {:0.4f}\".format(ret[0]))"
   ]
  },
  {
   "cell_type": "code",
   "execution_count": null,
   "metadata": {
    "id": "cUorofcV0S0B"
   },
   "outputs": [],
   "source": [
    "y_pred_train_smote = modelWithSmote.predict(train_features)"
   ]
  },
  {
   "cell_type": "code",
   "execution_count": null,
   "metadata": {
    "id": "chmkqkEm0bMd"
   },
   "outputs": [],
   "source": [
    "y_pred_test_smote = modelWithSmote.predict(test_features)"
   ]
  },
  {
   "cell_type": "code",
   "execution_count": null,
   "metadata": {
    "colab": {
     "base_uri": "https://localhost:8080/",
     "height": 367
    },
    "id": "F_oWjlsa59Ti",
    "outputId": "28661824-4ebe-4e60-da40-f2fd7d56691e"
   },
   "outputs": [
    {
     "name": "stdout",
     "output_type": "stream",
     "text": [
      "F1Score for train data 0.8748685594111462\n"
     ]
    },
    {
     "data": {
      "image/png": "[encoded data removed]",
      "text/plain": [
       "<Figure size 360x360 with 2 Axes>"
      ]
     },
     "metadata": {
      "needs_background": "light",
      "tags": []
     },
     "output_type": "display_data"
    }
   ],
   "source": [
    "plot_cm(train_targets, y_pred_train_smote)\n",
    "print(\"F1Score for train data\",F1Scrore(train_targets, y_pred_train_smote))"
   ]
  },
  {
   "cell_type": "code",
   "execution_count": null,
   "metadata": {
    "colab": {
     "base_uri": "https://localhost:8080/",
     "height": 367
    },
    "id": "Id3LEtnt0-VJ",
    "outputId": "84c882bd-b958-4a9a-e740-9e607eac435e"
   },
   "outputs": [
    {
     "name": "stdout",
     "output_type": "stream",
     "text": [
      "F1Score for test data 0.7464788732394366\n"
     ]
    },
    {
     "data": {
      "image/png": "[encoded data removed]",
      "text/plain": [
       "<Figure size 360x360 with 2 Axes>"
      ]
     },
     "metadata": {
      "needs_background": "light",
      "tags": []
     },
     "output_type": "display_data"
    }
   ],
   "source": [
    "plot_cm(test_targets, y_pred_test_smote)\n",
    "print(\"F1Score for test data\",F1Scrore(test_targets, y_pred_test_smote))"
   ]
  },
  {
   "cell_type": "code",
   "execution_count": null,
   "metadata": {
    "id": "xY8fuLaP0ubL"
   },
   "outputs": [],
   "source": []
  }
 ],
 "metadata": {
  "accelerator": "GPU",
  "colab": {
   "name": "Assignment 5 - Credit card fraud (keras).ipynb",
   "provenance": []
  },
  "kernelspec": {
   "display_name": "Python 3",
   "language": "python",
   "name": "python3"
  },
  "language_info": {
   "codemirror_mode": {
    "name": "ipython",
    "version": 3
   },
   "file_extension": ".py",
   "mimetype": "text/x-python",
   "name": "python",
   "nbconvert_exporter": "python",
   "pygments_lexer": "ipython3",
   "version": "3.8.3"
  }
 },
 "nbformat": 4,
 "nbformat_minor": 1
}
